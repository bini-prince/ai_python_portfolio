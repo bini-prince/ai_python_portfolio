{
  "nbformat": 4,
  "nbformat_minor": 0,
  "metadata": {
    "colab": {
      "provenance": [],
      "authorship_tag": "ABX9TyOt7ZLDGl7AvLGIMYk9e0f1",
      "include_colab_link": true
    },
    "kernelspec": {
      "name": "python3",
      "display_name": "Python 3"
    },
    "language_info": {
      "name": "python"
    }
  },
  "cells": [
    {
      "cell_type": "markdown",
      "metadata": {
        "id": "view-in-github",
        "colab_type": "text"
      },
      "source": [
        "<a href=\"https://colab.research.google.com/github/bini-prince/ai_python_portfolio/blob/main/day5_list_tuple_dict_py.ipynb\" target=\"_parent\"><img src=\"https://colab.research.google.com/assets/colab-badge.svg\" alt=\"Open In Colab\"/></a>"
      ]
    },
    {
      "cell_type": "code",
      "execution_count": 16,
      "metadata": {
        "colab": {
          "base_uri": "https://localhost:8080/"
        },
        "id": "qnkYuFv-q5z6",
        "outputId": "28a6112b-21f3-420a-9964-90db9244bec1"
      },
      "outputs": [
        {
          "output_type": "stream",
          "name": "stdout",
          "text": [
            "사과\n",
            "['사과', '바나나', '포도', '딸기']\n",
            "['사과', '포도', '딸기']\n",
            "37.5\n",
            "127.0\n",
            "(38.0, 127.0)\n",
            "경빈\n",
            "29\n",
            "{'이름': '경빈', '나이': 29}\n",
            "{'이름': '경빈', '나이': 29, '직업': '학생'}\n"
          ]
        }
      ],
      "source": [
        "#Day 5\n",
        "# 오늘 할 일\n",
        "#리스트 (값 추가/삭제, 출력)\n",
        "\n",
        "#튜플 (수정 안 되는 특징 확인)\n",
        "\n",
        "#딕셔너리 (값 꺼내기, 수정하기)\n",
        "\n",
        "#포트폴리오용 정리 파일 만들기 (README 업데이트)\n",
        "\n",
        "\n",
        "#Step 1. 리스트 실습\n",
        "\n",
        "# 리스트 만들기\n",
        "fruits = [\"사과\", \"바나나\", \"포도\"]\n",
        "\n",
        "# 값 꺼내보기\n",
        "print(fruits[0])  # 사과\n",
        "\n",
        "# 값 추가\n",
        "fruits.append(\"딸기\")\n",
        "print(fruits)\n",
        "\n",
        "# 값 삭제\n",
        "fruits.remove(\"바나나\")\n",
        "print(fruits)\n",
        "\n",
        "\n",
        "#Step 2. 튜플 실습\n",
        "\n",
        "\n",
        "# 튜플 만들기\n",
        "location = (37.5, 127.0)\n",
        "\n",
        "# 값 꺼내보기\n",
        "print(location[0])  # 37.5\n",
        "print(location[1])  # 127.0\n",
        "\n",
        "# 값 바꾸기 시도 (에러 확인)\n",
        "#location[0] = 38.0 # ❌ 에러 발생!\n",
        "location = (38.0, location[1])\n",
        "print(location)\n",
        "\n",
        "#Step 3. 딕셔너리 실습\n",
        "\n",
        "# 딕셔너리 만들기\n",
        "person = {\n",
        "    \"이름\": \"경빈\",\n",
        "    \"나이\": 29\n",
        "}\n",
        "\n",
        "# 값 꺼내기\n",
        "print(person[\"이름\"])  # 경빈\n",
        "print(person[\"나이\"])   # 29\n",
        "# 값 수정하기\n",
        "person[\"나이\"] = 29\n",
        "print(person)\n",
        "\n",
        "# 새 키-값 추가하기\n",
        "person[\"직업\"] = \"학생\"\n",
        "print(person)\n",
        "\n",
        "\n",
        "\n",
        "# Day 5 - 리스트, 튜플, 딕셔너리 실습 정리\n",
        "\n",
        "## ✅ 리스트 (List)\n",
        "\n",
        "#- 여러 데이터를 순서대로 저장\n",
        "#- 수정/추가/삭제 가능\n",
        "\n",
        "\n",
        "#튜플 (Tuple)\n",
        "\n",
        "#리스트처럼 보이지만, 한번 만들면 수정 불가\n",
        "#위치 정보 등 변하지 않는 데이터에 적합\n",
        "\n",
        "\n",
        "#딕셔너리 (Dictionary)\n",
        "\n",
        "#키:값 형태로 데이터 저장\n",
        "#이름표처럼 키로 원하는 값을 꺼냄\n",
        "\n"
      ]
    }
  ]
}