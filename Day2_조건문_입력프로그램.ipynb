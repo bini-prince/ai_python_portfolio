{
  "nbformat": 4,
  "nbformat_minor": 0,
  "metadata": {
    "colab": {
      "provenance": [],
      "authorship_tag": "ABX9TyPJIj5wW8VYLG8VbW/M47gI",
      "include_colab_link": true
    },
    "kernelspec": {
      "name": "python3",
      "display_name": "Python 3"
    },
    "language_info": {
      "name": "python"
    }
  },
  "cells": [
    {
      "cell_type": "markdown",
      "metadata": {
        "id": "view-in-github",
        "colab_type": "text"
      },
      "source": [
        "<a href=\"https://colab.research.google.com/github/bini-prince/ai_python_portfolio/blob/main/02_day2_%EC%A1%B0%EA%B1%B4%EB%AC%B8_%EC%9E%85%EB%A0%A5%ED%94%84%EB%A1%9C%EA%B7%B8%EB%9E%A8.ipynb\" target=\"_parent\"><img src=\"https://colab.research.google.com/assets/colab-badge.svg\" alt=\"Open In Colab\"/></a>"
      ]
    },
    {
      "cell_type": "code",
      "execution_count": 24,
      "metadata": {
        "colab": {
          "base_uri": "https://localhost:8080/"
        },
        "id": "qKjNJdqF4P4U",
        "outputId": "0650dd07-7b99-4c84-e3d3-3452318c757a"
      },
      "outputs": [
        {
          "output_type": "stream",
          "name": "stdout",
          "text": [
            "3일차연습\n",
            "오늘의 학습 계획\n",
            "if, else, elif 조건문input() 함수로 사용자에게 입력 받기 간단한 미니 프로그램 만들기\n",
            "성인입니다.\n",
            "당신의 이름은 무엇인가요? 2\n",
            "안녕하세요, 2\n",
            "당신의 나이는 몇 살인가요? 2\n",
            "시험 점수를 입력하세요: 2\n",
            "재시험 대상입니다.\n",
            "당신의 이름은 무엇인가요? 2\n",
            "당신의 나이는 몇 살인가요? 64\n",
            "2님, 입력하신 나이는 64살입니다.\n",
            "2님은 성인입니다.\n"
          ]
        }
      ],
      "source": [
        "# 새로운 2일차\n",
        "print (\"2일차연습\") #2일차 연습\n",
        "print(\"오늘의 학습 계획\")\n",
        "print(\"if, else, elif 조건문input() 함수로 사용자에게 입력 받기 간단한 미니 프로그램 만들기\")\n",
        "\n",
        "#조건문 기본 구조 이해하기\n",
        "\n",
        "#if 조건:\n",
        "    #실행할 코드\n",
        "#else:\n",
        "    #다른 상황일 때 실행할 코드\n",
        "\n",
        "age = 20\n",
        "\n",
        "if age >= 18:\n",
        "    print(\"성인입니다.\")\n",
        "else:\n",
        "    print(\"미성년자입니다.\")\n",
        "\n",
        "#사용자 입력 받아보기 (input())\n",
        "\n",
        "name = input(\"당신의 이름은 무엇인가요? \")\n",
        "\n",
        "print(\"안녕하세요,\", name)\n",
        "\n",
        "#예시 숫자\n",
        "\n",
        "age = int(input(\"당신의 나이는 몇 살인가요? \"))\n",
        "\n",
        "#if, elif, else 흐름 확장하기\n",
        "\n",
        "score = int(input(\"시험 점수를 입력하세요: \"))\n",
        "\n",
        "if score >= 90:\n",
        "    print(\"A 학점입니다.\")\n",
        "elif score >= 80:\n",
        "    print(\"B 학점입니다.\")\n",
        "elif score >= 70:\n",
        "    print(\"C 학점입니다.\")\n",
        "else:\n",
        "    print(\"재시험 대상입니다.\")\n",
        "\n",
        "#나이 검사기 만들기\n",
        "\n",
        "# 이름과 나이 입력받기\n",
        "name = input(\"당신의 이름은 무엇인가요? \")\n",
        "age = int(input(\"당신의 나이는 몇 살인가요? \"))\n",
        "\n",
        "# 입력 확인\n",
        "print(f\"{name}님, 입력하신 나이는 {age}살입니다.\")\n",
        "\n",
        "if age < 18:\n",
        "    print(f\"{name}님은 미성년자입니다.\")\n",
        "elif age < 65:\n",
        "    print(f\"{name}님은 성인입니다.\")\n",
        "else:\n",
        "    print(f\"{name}님은 노인입니다.\")"
      ]
    }
  ]
}
