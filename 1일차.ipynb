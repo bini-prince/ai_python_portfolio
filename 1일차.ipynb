{
  "nbformat": 4,
  "nbformat_minor": 0,
  "metadata": {
    "colab": {
      "provenance": [],
      "authorship_tag": "ABX9TyO6bYKZW6S0j0K0mC5fGcF4",
      "include_colab_link": true
    },
    "kernelspec": {
      "name": "python3",
      "display_name": "Python 3"
    },
    "language_info": {
      "name": "python"
    }
  },
  "cells": [
    {
      "cell_type": "markdown",
      "metadata": {
        "id": "view-in-github",
        "colab_type": "text"
      },
      "source": [
        "<a href=\"https://colab.research.google.com/github/bini-prince/ai_python_portfolio/blob/main/1%EC%9D%BC%EC%B0%A8.ipynb\" target=\"_parent\"><img src=\"https://colab.research.google.com/assets/colab-badge.svg\" alt=\"Open In Colab\"/></a>"
      ]
    },
    {
      "cell_type": "code",
      "execution_count": 4,
      "metadata": {
        "colab": {
          "base_uri": "https://localhost:8080/"
        },
        "id": "qASyMyooj40V",
        "outputId": "f82e875e-e2d4-41d0-ad24-61da4239119a"
      },
      "outputs": [
        {
          "output_type": "stream",
          "name": "stdout",
          "text": [
            "1일차\n",
            "경빈의 나이는 28살 입니다.\n",
            "취미는 배틀그라운드 입니다.\n",
            "13\n",
            "7\n",
            "30\n",
            "3.3333333333333335\n",
            "3\n",
            "1\n",
            "안녕하세요, 경빈님!\n",
            "파이썬! 파이썬! 파이썬! \n"
          ]
        }
      ],
      "source": [
        "#Day 1: 변수, 숫자, 문자열 기초\n",
        "#코드 실행\n",
        "print(\"1일차\") #1일차 연습\n",
        "\n",
        "#변수와 출력 연습\n",
        "name = \"경빈\"\n",
        "age = 28\n",
        "print(name + \"의 나이는 \" + str(age) + \"살 입니다.\")\n",
        "print(\"취미는 배틀그라운드 입니다.\")\n",
        "\n",
        "#숫자 계산하기 (산술 연산)\n",
        "a = 10\n",
        "b = 3\n",
        "\n",
        "print(a + b)  # 덧셈\n",
        "print(a - b)  # 뺄셈\n",
        "print(a * b)  # 곱셈\n",
        "print(a / b)  # 나눗셈 (결과는 소수)\n",
        "print(a // b) # 몫\n",
        "print(a % b)  # 나머지\n",
        "\n",
        "#문자열 더 다루기\n",
        "greeting = \"안녕하세요\"\n",
        "name = \"경빈\"\n",
        "\n",
        "message = greeting + \", \" + name + \"님!\"\n",
        "print(message)\n",
        "\n",
        "# 문자열 반복\n",
        "print(\"파이썬! \" * 3)\n",
        "\n",
        "#오늘 배운 내용 요약\n",
        "\n",
        "#출력\tprint()\n",
        "#변수\ta = 10, name = \"경빈\"\n",
        "#문자열\t\"Hello\" + \"World\"\n",
        "#숫자 연산\t+ - * / // %\n",
        "#문자열 반복\t\"하이!\" * 3"
      ]
    }
  ]
}