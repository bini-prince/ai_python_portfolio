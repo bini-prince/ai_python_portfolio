{
  "nbformat": 4,
  "nbformat_minor": 0,
  "metadata": {
    "colab": {
      "provenance": [],
      "authorship_tag": "ABX9TyOcaETh/pBWZRkKDHLc2/SM",
      "include_colab_link": true
    },
    "kernelspec": {
      "name": "python3",
      "display_name": "Python 3"
    },
    "language_info": {
      "name": "python"
    }
  },
  "cells": [
    {
      "cell_type": "markdown",
      "metadata": {
        "id": "view-in-github",
        "colab_type": "text"
      },
      "source": [
        "<a href=\"https://colab.research.google.com/github/bini-prince/ai_python_portfolio/blob/main/Day3_%EB%B0%98%EB%B3%B5%EB%AC%B8_%EB%AF%B8%EB%8B%88%ED%94%84%EB%A1%9C%EC%A0%9D%ED%8A%B8.ipynb\" target=\"_parent\"><img src=\"https://colab.research.google.com/assets/colab-badge.svg\" alt=\"Open In Colab\"/></a>"
      ]
    },
    {
      "cell_type": "code",
      "execution_count": 6,
      "metadata": {
        "colab": {
          "base_uri": "https://localhost:8080/"
        },
        "id": "mT99pp7B_qNI",
        "outputId": "0dda32f8-c833-42be-90a3-9d1e9958d3ca"
      },
      "outputs": [
        {
          "output_type": "stream",
          "name": "stdout",
          "text": [
            "현재 숫자: 0\n",
            "현재 숫자: 1\n",
            "현재 숫자: 2\n",
            "현재 숫자: 3\n",
            "현재 숫자: 4\n",
            "현재 숫자: 0\n",
            "현재 숫자: 1\n",
            "현재 숫자: 2\n",
            "현재 숫자: 3\n",
            "현재 숫자: 4\n",
            "현재 숫자: 0\n",
            "현재 숫자: 1\n",
            "현재 숫자: 2\n",
            "현재 숫자: 3\n",
            "현재 숫자: 4\n",
            "5에 도달! 반복 종료\n",
            "현재 숫자: 0\n",
            "현재 숫자: 1\n",
            "2는 건너뜀\n",
            "현재 숫자: 3\n",
            "현재 숫자: 4\n",
            "숫자를 입력하세요: 3\n",
            "0\n",
            "1\n",
            "2\n",
            "3\n"
          ]
        }
      ],
      "source": [
        "#3일차\n",
        "#🛠️ 오늘 수업 계획 (Day 3)\n",
        "#주제: 반복문(for, while) 배우기\n",
        "#for문 기본 사용법\n",
        "#while문 기본 사용법\n",
        "#break, continue 키워드\n",
        "#미니 프로젝트: 간단한 반복 계산기 만들기\n",
        "\n",
        "\n",
        "#Step 1: for문 기본 배우기\n",
        "\n",
        "# for문 기본 구조\n",
        "for i in range(5):\n",
        "    print(f\"현재 숫자: {i}\")\n",
        "\n",
        "#range(5)는 0부터 4까지 총 5번 반복한다는 뜻\n",
        "#i가 0 → 1 → 2 → 3 → 4 로 바뀌면서 반복된다!\n",
        "\n",
        "#Step 2: while문 기본 배우기\n",
        "\n",
        "# while문 기본 구조\n",
        "count = 0\n",
        "\n",
        "while count < 5:\n",
        "    print(f\"현재 숫자: {count}\")\n",
        "    count += 1\n",
        "\n",
        "#while은 조건이 참인 동안 계속 반복\n",
        "#count가 0부터 시작해서 하나씩 커지고, 5가 되면 멈춘다!\n",
        "\n",
        "#Step 3: break, continue 배우기\n",
        "\n",
        "#break: 반복문 강제 종료\n",
        "#ontinue: 이번 반복만 건너뛰고 다음 반복 진행\n",
        "\n",
        "# break 사용 예시\n",
        "for i in range(10):\n",
        "    if i == 5:\n",
        "        print(\"5에 도달! 반복 종료\")\n",
        "        break\n",
        "    print(f\"현재 숫자: {i}\")\n",
        "\n",
        "# continue 사용 예시\n",
        "for i in range(5):\n",
        "    if i == 2:\n",
        "        print(\"2는 건너뜀\")\n",
        "        continue\n",
        "    print(f\"현재 숫자: {i}\")\n",
        "\n",
        "#Step 4: 미니 프로젝트\n",
        "\n",
        "# 사용자로부터 숫자 입력받기\n",
        "\n",
        "number = int(input(\"숫자를 입력하세요: \"))\n",
        "\n",
        "# 0부터 입력한 숫자까지 반복\n",
        "for i in range(number + 1):\n",
        "    if i == 5:\n",
        "        print(\"5에 도달했습니다! 반복 종료\")\n",
        "        break\n",
        "    print(i)\n",
        "\n",
        "    # Day 3 - 반복문 배우기 (for, while, break, continue)\n",
        "\n",
        "## 날짜\n",
        "#- 2025-04-28\n",
        "\n",
        "## 오늘 배운 내용\n",
        "#- for문 기본 사용법\n",
        "#- while문 기본 사용법\n",
        "#- break, continue 키워드 사용법\n",
        "\n",
        "## 코드 예제\n",
        "#(여기에 코드 복붙)\n",
        "\n",
        "## 미니 프로젝트\n",
        "#- 사용자 입력받아 반복 출력하는 프로그램"
      ]
    }
  ]
}