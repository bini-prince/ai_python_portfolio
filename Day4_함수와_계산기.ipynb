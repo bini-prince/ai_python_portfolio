{
  "nbformat": 4,
  "nbformat_minor": 0,
  "metadata": {
    "colab": {
      "provenance": [],
      "authorship_tag": "ABX9TyOCLX7N9zx+hw1ChUwTdxif",
      "include_colab_link": true
    },
    "kernelspec": {
      "name": "python3",
      "display_name": "Python 3"
    },
    "language_info": {
      "name": "python"
    }
  },
  "cells": [
    {
      "cell_type": "markdown",
      "metadata": {
        "id": "view-in-github",
        "colab_type": "text"
      },
      "source": [
        "<a href=\"https://colab.research.google.com/github/bini-prince/ai_python_portfolio/blob/main/Day4_%ED%95%A8%EC%88%98%EC%99%80_%EA%B3%84%EC%82%B0%EA%B8%B0.ipynb\" target=\"_parent\"><img src=\"https://colab.research.google.com/assets/colab-badge.svg\" alt=\"Open In Colab\"/></a>"
      ]
    },
    {
      "cell_type": "code",
      "execution_count": 16,
      "metadata": {
        "colab": {
          "base_uri": "https://localhost:8080/"
        },
        "id": "TS9oUpVJ2vhV",
        "outputId": "3cec8e7f-3c73-48ca-9896-961c9dcc73f0"
      },
      "outputs": [
        {
          "output_type": "stream",
          "name": "stdout",
          "text": [
            "안녕하세요!\n",
            "안녕하세요, 경빈님!\n",
            "결과: 18\n",
            "덧셈: 18\n",
            "뺄셈: 18\n",
            "곱셈: 18\n",
            "나눗셈: 18.0\n"
          ]
        }
      ],
      "source": [
        "#Day 4: 함수(Function) 배우기\n",
        "\n",
        "#오늘의 학습 목표\n",
        "#함수란 무엇인가?\n",
        "\n",
        "#def 키워드로 함수 만들기\n",
        "\n",
        "#매개변수(parameter)와 반환값(return)\n",
        "\n",
        "#미니 프로젝트: 사칙연산 계산기 함수 만들기\n",
        "\n",
        "\n",
        "#Step 1: 함수란?\n",
        "\n",
        "#함수는 \"자주 쓰는 코드 묶음\" 을 만들고 이름을 붙여주는 것\n",
        "#필요할 때마다 불러서 쓸 수 있다. (재사용성 up!)\n",
        "\n",
        "# 함수 정의\n",
        "def say_hello():\n",
        "    print(\"안녕하세요!\")\n",
        "\n",
        "# 함수 호출\n",
        "say_hello()\n",
        "\n",
        "#def → define (정의하다)\n",
        "\n",
        "#say_hello → 함수 이름\n",
        "\n",
        "#() → 나중에 값을 넣을 수 있는 공간 (매개변수 자리)\n",
        "\n",
        "\n",
        "#Step 2: 매개변수(Parameter)와 인수(Argument)\n",
        "\n",
        "# 이름을 받아 인사하는 함수\n",
        "def greet(name):\n",
        "    print(f\"안녕하세요, {name}님!\")\n",
        "\n",
        "greet(\"경빈\")  # 실행 결과: 안녕하세요, 경빈님!\n",
        "\n",
        "#name은 매개변수 (parameter) = 입력받을 이름\n",
        "\n",
        "#\"경빈\"은 인수 (argument) = 실제 전달한 값\n",
        "\n",
        "\n",
        "#Step 3: return — 함수의 결과를 돌려주기\n",
        "\n",
        "def add(x, y):\n",
        "    return x + y\n",
        "\n",
        "result = add(10, 8)\n",
        "print(\"결과:\", result)\n",
        "\n",
        "#return은 함수를 끝내고, 결과를 반환(return) 한다.\n",
        "\n",
        "#result 변수에 add(3, 5)의 결과인 8이 저장.\n",
        "\n",
        "\n",
        "#Day 4 미니 프로젝트\n",
        "#사칙연산 계산기 함수 만들기\n",
        "\n",
        "#add(x, y) → 덧셈\n",
        "\n",
        "#subtract(x, y) → 뺄셈\n",
        "\n",
        "#multiply(x, y) → 곱셈\n",
        "\n",
        "#divide(x, y) → 나눗셈\n",
        "\n",
        "#모든 함수는 return으로 결과를 반환해야 한다.\n",
        "\n",
        "def add(x, y):\n",
        "    return x + y\n",
        "\n",
        "def subtract(x, y):\n",
        "    return x - y\n",
        "\n",
        "def multiply(x, y):\n",
        "    return x * y\n",
        "\n",
        "def divide(x, y):\n",
        "    if y == 0:\n",
        "        return \"0으로 나눌 수 없습니다.\"\n",
        "    return x / y\n",
        "\n",
        "# 테스트\n",
        "print(\"덧셈:\", add(9, 9))\n",
        "print(\"뺄셈:\", subtract(20, 2))\n",
        "print(\"곱셈:\", multiply(6, 3))\n",
        "print(\"나눗셈:\", divide(36, 2))\n"
      ]
    }
  ]
}